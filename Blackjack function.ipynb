{
 "cells": [
  {
   "cell_type": "markdown",
   "metadata": {},
   "source": [
    "## Testing blackjack function\n",
    "\n",
    "The blackjack() function in \\_blackjack.py implements the logic for a single blackjack [Round](Round object.ipynb) using the methods of the Round class."
   ]
  },
  {
   "cell_type": "code",
   "execution_count": 1,
   "metadata": {},
   "outputs": [
    {
     "name": "stdout",
     "output_type": "stream",
     "text": [
      "\n",
      "New round!\n",
      "\n",
      "Your cards:\n",
      "9\t10\t\n",
      "Dealer card:\n",
      "7\n",
      "\n",
      "Choose your move: Enter h to hit and s to stand\n",
      "s\n",
      "\n",
      "Dealer will start drawing now!\n",
      "Your cards:\n",
      "9\t10\t\n",
      "Dealer cards:\n",
      "7\tK\t\n",
      "\n",
      "Dealer hand complete\n",
      "You beat the dealer by 2 points\n",
      "\n",
      "End of round!\n"
     ]
    },
    {
     "data": {
      "text/plain": [
       "'Win'"
      ]
     },
     "execution_count": 1,
     "metadata": {},
     "output_type": "execute_result"
    }
   ],
   "source": [
    "# make sure the root of blackjack package is in pythonpath\n",
    "import sys\n",
    "blackjack_path = '..'\n",
    "if blackjack_path not in sys.path:\n",
    "    sys.path.append(blackjack_path)\n",
    "    \n",
    "from blackjack._blackjack import blackjack\n",
    "\n",
    "blackjack('Player')"
   ]
  }
 ],
 "metadata": {
  "kernelspec": {
   "display_name": "Python 3",
   "language": "python",
   "name": "python3"
  },
  "language_info": {
   "codemirror_mode": {
    "name": "ipython",
    "version": 3
   },
   "file_extension": ".py",
   "mimetype": "text/x-python",
   "name": "python",
   "nbconvert_exporter": "python",
   "pygments_lexer": "ipython3",
   "version": "3.6.1"
  }
 },
 "nbformat": 4,
 "nbformat_minor": 2
}

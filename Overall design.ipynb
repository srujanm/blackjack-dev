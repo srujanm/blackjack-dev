{
 "cells": [
  {
   "cell_type": "markdown",
   "metadata": {},
   "source": [
    "# Single player blackjack\n",
    "\n",
    "## Game rules\n",
    "Here are the rules of this simplified version of [single player blackjack](https://help.bwin.com/en/casino-help/blackjack/lasvegasdowntownblackjack).\n",
    "\n",
    "### Betting:\n",
    "-  Test\n",
    "-  Start by placing your money for the game on the table\n",
    "-  At the start of every new round, you can choose your bet for that round\n",
    "-  You earn 1.5 times the bet amount if you win, you pay the bet amount if you lose\n",
    "\n",
    "### Game sequence:\n",
    "-  There is a single deck of cards\n",
    "-  Each round begins with two cards dealt to you and the dealer. You see one of the dealer cards while you play\n",
    "-  In this simplified blackjack, you can either hit or stand\n",
    "-  If you have a natural blackjack with your first two cards, and the dealer does not, you win\n",
    "-  If your hand busts afte a hit, you lose\n",
    "-  If you get a blackjack after a hit\n",
    "    -  and the dealer does not have a natural, you win\n",
    "    -  and the dealer has a natural, the round is a draw\n",
    "-  If you stand, you complete your hand and the dealer will start playing\n",
    "-  If the dealer does not have a natural, they will draw until their score is 17 or above (strictly above if soft)\n",
    "\n",
    "### Card values:\n",
    "-  Cards 2 to 10 have their face value, J, Q and K are 10, A is either 1 or 11\n",
    "-  Blackjack at 21, bust above 21\n",
    "\n",
    "## Source code design\n",
    "\n",
    "The source code is modular and will conveniently allow you to add more methods to make this game closer to actual blackjack. For instance, you could more moves that players typically make eg. split, double down or extend this to muliple players or add a nice GUI to make this less boring :)\n",
    "\n",
    "The notebooks in this folder were written while testing the various objects and functions in the source code as it was being developed. They are a good testing ground if you choose to modify the code. Here are the notebooks associated with various files in the source code arranged in decreasing order of abstraction.\n",
    "\n",
    "- [Game](Game object.ipynb)\n",
    "- [Round](Round object.ipynb) and [Blackjack script](Blackjack function.ipynb)\n",
    "- [Hand](Hand object.ipynb)\n",
    "- [Deck](Deck object.ipynb)"
   ]
  }
 ],
 "metadata": {
  "kernelspec": {
   "display_name": "Python 3",
   "language": "python",
   "name": "python3"
  },
  "language_info": {
   "codemirror_mode": {
    "name": "ipython",
    "version": 3
   },
   "file_extension": ".py",
   "mimetype": "text/x-python",
   "name": "python",
   "nbconvert_exporter": "python",
   "pygments_lexer": "ipython3",
   "version": "3.6.1"
  }
 },
 "nbformat": 4,
 "nbformat_minor": 2
}

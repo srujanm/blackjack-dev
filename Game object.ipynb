{
 "cells": [
  {
   "cell_type": "markdown",
   "metadata": {},
   "source": [
    "## Testing Game object\n",
    "\n",
    "The Game object defined in \\_game.py essentially keeps track of the player's money. Methods in this class allow you to implement multiple [Rounds](Round object.ipynb) until the player wishes to stop playing or loses all their money.\n",
    "\n",
    "Here is a simple program which implements a game. These are in fact the lines from \\_\\_main__.py which runs when you call the blackjack package from the command line"
   ]
  },
  {
   "cell_type": "code",
   "execution_count": 1,
   "metadata": {},
   "outputs": [
    {
     "name": "stdout",
     "output_type": "stream",
     "text": [
      "Enter your name\n",
      "Python Amateur\n",
      "\n",
      "Starting new game!\n",
      "\n",
      "Welcome to simple single player blackjack, Python Amateur. Here are the rules:\n",
      "BETTING:\n",
      "\t-Start by placing your money for the game on the table\n",
      "\t-At the start of every new round, you can choose your bet for that round\n",
      "\t-You earn 1.5 times the bet amount if you win, you pay the bet amount if you lose\n",
      "GAME SEQUENCE:\n",
      "\t-There is a single deck of cards\n",
      "\t-Each round begins with two cards dealt to you and the dealer. You see one of the dealer cards while you play\n",
      "\t-In this simplified blackjack, you can either hit or stand\n",
      "\t-If you have a natural blackjack with your first two cards, and the dealer does not, you win\n",
      "\t-If your hand busts afte a hit, you lose\n",
      "\t-If you get a blackjack after a hit\n",
      "\t\t-and the dealer does not have a natural, you win\n",
      "\t\t-and the dealer has a natural, the round is a draw\n",
      "\t-If you stand, you complete your hand and the dealer will start playing\n",
      "\t-If the dealer does not have a natural, they will draw until their score is 17 or above (strictly above if soft)\n",
      "CARD VALUES:\n",
      "\t-Cards 2 to 10 have their face value, J, Q and K are 10, A is either 1 or 11\n",
      "\t-Blackjack at 21, bust above 21\n",
      "GOOD LUCK!\n",
      "\n",
      "How much money do you want to put on the table? ;)\n",
      "100\n",
      "\n",
      "Do you want to start a round? y or n\n",
      "y\n",
      "How much do you want to bet on this round?\n",
      "80\n",
      "\n",
      "New round!\n",
      "\n",
      "Your cards:\n",
      "4\t9\t\n",
      "Dealer card:\n",
      "3\n",
      "\n",
      "Choose your move: Enter h to hit and s to stand\n",
      "h\n",
      "Your cards:\n",
      "4\t7\t9\t\n",
      "Dealer card:\n",
      "3\n",
      "\n",
      "Choose your move: Enter h to hit and s to stand\n",
      "s\n",
      "\n",
      "Dealer will start drawing now!\n",
      "Your cards:\n",
      "4\t7\t9\t\n",
      "Dealer cards:\n",
      "3\t4\t\n",
      "\n",
      "Dealer draws\n",
      "Your cards:\n",
      "4\t7\t9\t\n",
      "Dealer cards:\n",
      "3\t4\tK\t\n",
      "\n",
      "Dealer hand complete\n",
      "You beat the dealer by 3 points\n",
      "\n",
      "End of round!\n",
      "\n",
      "Congratulations! You now have 220.0 moneys\n",
      "\n",
      "Do you want to start a round? y or n\n",
      "n\n",
      "\n",
      "Thanks for playing, Python Amateur. This was fun!\n"
     ]
    }
   ],
   "source": [
    "# make sure the root of blackjack package is in pythonpath\n",
    "import sys\n",
    "blackjack_path = '..'\n",
    "if blackjack_path not in sys.path:\n",
    "    sys.path.append(blackjack_path)\n",
    "    \n",
    "from blackjack import Game\n",
    "\n",
    "blackjack_game = Game()\n",
    "blackjack_game.start_game()\n",
    "blackjack_game.stop_game()"
   ]
  }
 ],
 "metadata": {
  "kernelspec": {
   "display_name": "Python 3",
   "language": "python",
   "name": "python3"
  },
  "language_info": {
   "codemirror_mode": {
    "name": "ipython",
    "version": 3
   },
   "file_extension": ".py",
   "mimetype": "text/x-python",
   "name": "python",
   "nbconvert_exporter": "python",
   "pygments_lexer": "ipython3",
   "version": "3.6.1"
  }
 },
 "nbformat": 4,
 "nbformat_minor": 2
}

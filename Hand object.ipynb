{
 "cells": [
  {
   "cell_type": "markdown",
   "metadata": {},
   "source": [
    "## Creating and testing Hand class\n",
    "\n",
    "The Hand object defined in \\_hand.py is structurally a dict like the [Deck](Deck object.ipynb). It has methods to check for a blackjack or bust. This class is used to derive the DealerHand and PlayerHand classes in \\_dealerhand.py and \\_playerhand.py."
   ]
  },
  {
   "cell_type": "code",
   "execution_count": 1,
   "metadata": {},
   "outputs": [
    {
     "data": {
      "text/plain": [
       "'Player'"
      ]
     },
     "execution_count": 1,
     "metadata": {},
     "output_type": "execute_result"
    }
   ],
   "source": [
    "# make sure the root of blackjack package is in pythonpath\n",
    "import sys\n",
    "blackjack_path = '..'\n",
    "if blackjack_path not in sys.path:\n",
    "    sys.path.append(blackjack_path)\n",
    "\n",
    "from blackjack._hand import Hand\n",
    "from blackjack._deck import Deck\n",
    "\n",
    "# initialize deck\n",
    "blackjack_deck = Deck()\n",
    "\n",
    "# initialize an object of Hnad class\n",
    "player_hand = Hand(owner='Player')\n",
    "\n",
    "# print class attributes\n",
    "player_hand.cards\n",
    "player_hand.owner"
   ]
  },
  {
   "cell_type": "markdown",
   "metadata": {},
   "source": [
    "## Hand class methods"
   ]
  },
  {
   "cell_type": "code",
   "execution_count": 2,
   "metadata": {},
   "outputs": [
    {
     "name": "stdout",
     "output_type": "stream",
     "text": [
      "['2', '2', '2', '2', '3', '3', '3', '3', '4', '4', '4', '5', '5', '5', '5', '6', '6', '6', '6', '7', '7', '7', '7', '8', '8', '8', '8', '9', '9', '9', '9', '10', '10', '10', '10', 'J', 'J', 'J', 'Q', 'Q', 'Q', 'Q', 'K', 'K', 'K', 'K', 'A', 'A', 'A', 'A']\n",
      "['4', 'J']\n"
     ]
    }
   ],
   "source": [
    "# deal: draw two cards from deck, add to hand\n",
    "player_hand.deal(blackjack_deck)\n",
    "\n",
    "# display deck and hand\n",
    "print(str(blackjack_deck.display()))\n",
    "print(str(player_hand.display()))"
   ]
  },
  {
   "cell_type": "code",
   "execution_count": 3,
   "metadata": {},
   "outputs": [
    {
     "name": "stdout",
     "output_type": "stream",
     "text": [
      "['2', '2', '2', '2', '3', '3', '3', '3', '4', '4', '4', '5', '5', '5', '5', '6', '6', '6', '6', '7', '7', '7', '7', '8', '8', '8', '9', '9', '9', '9', '10', '10', '10', '10', 'J', 'J', 'J', 'Q', 'Q', 'Q', 'Q', 'K', 'K', 'K', 'K', 'A', 'A', 'A', 'A']\n",
      "['4', '8', 'J']\n"
     ]
    }
   ],
   "source": [
    "# hit: draw card from deck, add to hand\n",
    "player_hand.hit(blackjack_deck)\n",
    "\n",
    "# display deck and hand\n",
    "print(str(blackjack_deck.display()))\n",
    "print(str(player_hand.display()))"
   ]
  },
  {
   "cell_type": "code",
   "execution_count": 4,
   "metadata": {},
   "outputs": [
    {
     "data": {
      "text/plain": [
       "False"
      ]
     },
     "execution_count": 4,
     "metadata": {},
     "output_type": "execute_result"
    }
   ],
   "source": [
    "# check if hand is soft\n",
    "player_hand.is_soft()"
   ]
  },
  {
   "cell_type": "code",
   "execution_count": 5,
   "metadata": {},
   "outputs": [
    {
     "data": {
      "text/plain": [
       "22"
      ]
     },
     "execution_count": 5,
     "metadata": {},
     "output_type": "execute_result"
    }
   ],
   "source": [
    "# calculate score\n",
    "player_hand.score()"
   ]
  },
  {
   "cell_type": "code",
   "execution_count": 6,
   "metadata": {},
   "outputs": [
    {
     "data": {
      "text/plain": [
       "True"
      ]
     },
     "execution_count": 6,
     "metadata": {},
     "output_type": "execute_result"
    }
   ],
   "source": [
    "player_hand.is_bust() "
   ]
  },
  {
   "cell_type": "code",
   "execution_count": 7,
   "metadata": {},
   "outputs": [
    {
     "data": {
      "text/plain": [
       "False"
      ]
     },
     "execution_count": 7,
     "metadata": {},
     "output_type": "execute_result"
    }
   ],
   "source": [
    "player_hand.is_blackjack()"
   ]
  }
 ],
 "metadata": {
  "kernelspec": {
   "display_name": "Python 3",
   "language": "python",
   "name": "python3"
  },
  "language_info": {
   "codemirror_mode": {
    "name": "ipython",
    "version": 3
   },
   "file_extension": ".py",
   "mimetype": "text/x-python",
   "name": "python",
   "nbconvert_exporter": "python",
   "pygments_lexer": "ipython3",
   "version": "3.6.1"
  }
 },
 "nbformat": 4,
 "nbformat_minor": 2
}

{
 "cells": [
  {
   "cell_type": "markdown",
   "metadata": {
    "collapsed": true
   },
   "source": [
    "## Creating and testing Deck class\n",
    "\n",
    "The Deck is a basic object defined in \\_deck.py that does not depend on any other objects. It is essentially a dictionary whose keys are card names and values are the number of those cards in the deck. "
   ]
  },
  {
   "cell_type": "code",
   "execution_count": 1,
   "metadata": {},
   "outputs": [
    {
     "data": {
      "text/plain": [
       "{'10': 4,\n",
       " '2': 4,\n",
       " '3': 4,\n",
       " '4': 4,\n",
       " '5': 4,\n",
       " '6': 4,\n",
       " '7': 4,\n",
       " '8': 4,\n",
       " '9': 4,\n",
       " 'A': 4,\n",
       " 'J': 4,\n",
       " 'K': 4,\n",
       " 'Q': 4}"
      ]
     },
     "execution_count": 1,
     "metadata": {},
     "output_type": "execute_result"
    }
   ],
   "source": [
    "# make sure the root of blackjack package is in pythonpath\n",
    "import sys\n",
    "blackjack_path = '..'\n",
    "if blackjack_path not in sys.path:\n",
    "    sys.path.append(blackjack_path)\n",
    "    \n",
    "from blackjack._deck import Deck\n",
    "\n",
    "# initialize an object of Deck class\n",
    "blackjack_deck = Deck()\n",
    "\n",
    "# print class attributes\n",
    "blackjack_deck.cards"
   ]
  },
  {
   "cell_type": "markdown",
   "metadata": {},
   "source": [
    "## Deck class methods"
   ]
  },
  {
   "cell_type": "code",
   "execution_count": 2,
   "metadata": {},
   "outputs": [
    {
     "data": {
      "text/plain": [
       "52"
      ]
     },
     "execution_count": 2,
     "metadata": {},
     "output_type": "execute_result"
    }
   ],
   "source": [
    "# count no. of cards in deck\n",
    "blackjack_deck.no_cards()"
   ]
  },
  {
   "cell_type": "code",
   "execution_count": 3,
   "metadata": {},
   "outputs": [
    {
     "data": {
      "text/plain": [
       "['2',\n",
       " '2',\n",
       " '2',\n",
       " '2',\n",
       " '3',\n",
       " '3',\n",
       " '3',\n",
       " '3',\n",
       " '4',\n",
       " '4',\n",
       " '4',\n",
       " '4',\n",
       " '5',\n",
       " '5',\n",
       " '5',\n",
       " '5',\n",
       " '6',\n",
       " '6',\n",
       " '6',\n",
       " '6',\n",
       " '7',\n",
       " '7',\n",
       " '7',\n",
       " '7',\n",
       " '8',\n",
       " '8',\n",
       " '8',\n",
       " '8',\n",
       " '9',\n",
       " '9',\n",
       " '9',\n",
       " '9',\n",
       " '10',\n",
       " '10',\n",
       " '10',\n",
       " '10',\n",
       " 'J',\n",
       " 'J',\n",
       " 'J',\n",
       " 'J',\n",
       " 'Q',\n",
       " 'Q',\n",
       " 'Q',\n",
       " 'Q',\n",
       " 'K',\n",
       " 'K',\n",
       " 'K',\n",
       " 'K',\n",
       " 'A',\n",
       " 'A',\n",
       " 'A',\n",
       " 'A']"
      ]
     },
     "execution_count": 3,
     "metadata": {},
     "output_type": "execute_result"
    }
   ],
   "source": [
    "# show all cards in deck\n",
    "# blackjack_deck.reveal() ### name of this function was subsequently updated\n",
    "blackjack_deck.display()"
   ]
  },
  {
   "cell_type": "code",
   "execution_count": 4,
   "metadata": {},
   "outputs": [
    {
     "name": "stdout",
     "output_type": "stream",
     "text": [
      "3\n",
      "10\n"
     ]
    },
    {
     "data": {
      "text/plain": [
       "{'10': 3,\n",
       " '2': 4,\n",
       " '3': 3,\n",
       " '4': 4,\n",
       " '5': 4,\n",
       " '6': 4,\n",
       " '7': 4,\n",
       " '8': 4,\n",
       " '9': 4,\n",
       " 'A': 4,\n",
       " 'J': 4,\n",
       " 'K': 4,\n",
       " 'Q': 4}"
      ]
     },
     "execution_count": 4,
     "metadata": {},
     "output_type": "execute_result"
    }
   ],
   "source": [
    "# draw random card from deck\n",
    "print(blackjack_deck.draw())\n",
    "# draw another\n",
    "print(blackjack_deck.draw())\n",
    "# check deck after draw\n",
    "blackjack_deck.cards"
   ]
  }
 ],
 "metadata": {
  "kernelspec": {
   "display_name": "Python 3",
   "language": "python",
   "name": "python3"
  },
  "language_info": {
   "codemirror_mode": {
    "name": "ipython",
    "version": 3
   },
   "file_extension": ".py",
   "mimetype": "text/x-python",
   "name": "python",
   "nbconvert_exporter": "python",
   "pygments_lexer": "ipython3",
   "version": "3.6.1"
  }
 },
 "nbformat": 4,
 "nbformat_minor": 2
}

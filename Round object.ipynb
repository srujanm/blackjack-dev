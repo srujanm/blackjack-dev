{
 "cells": [
  {
   "cell_type": "markdown",
   "metadata": {},
   "source": [
    "## Creating and testing Round class\n",
    "\n",
    "The Round object in \\_round.py stores the [Deck](Deck object.ipynb), [DealerHand](Hand object.ipynb), [PlayerHand](Hand object.ipynb) for a given round of the [Game](Game object.ipynb). In addition, the status of the player (eg. blackjack, bust) and the outcome of the round are also class attributes and are updated at the end of the round. \n",
    "\n",
    "This object was created to ensure that the function implementing the logic for a blackjack round is modular. Functions that execute player moves and dealer moves are methods of the Round class instead of standalone functions. If you choose to add more types of moves to the game, eg. split, double down, etc. you can add them as methods to this class, and this notebook is a good testing ground."
   ]
  },
  {
   "cell_type": "code",
   "execution_count": 1,
   "metadata": {},
   "outputs": [
    {
     "name": "stdout",
     "output_type": "stream",
     "text": [
      "\n",
      "New round!\n",
      "\n",
      "Your cards:\n",
      "6\tA\t\n",
      "Dealer cards:\n",
      "4\t5\t\n",
      "In Progress\n"
     ]
    },
    {
     "data": {
      "text/plain": [
       "{'10': 4,\n",
       " '2': 4,\n",
       " '3': 4,\n",
       " '4': 3,\n",
       " '5': 3,\n",
       " '6': 3,\n",
       " '7': 4,\n",
       " '8': 4,\n",
       " '9': 4,\n",
       " 'A': 3,\n",
       " 'J': 4,\n",
       " 'K': 4,\n",
       " 'Q': 4}"
      ]
     },
     "execution_count": 1,
     "metadata": {},
     "output_type": "execute_result"
    }
   ],
   "source": [
    "# make sure the root of blackjack package is in pythonpath\n",
    "import sys\n",
    "blackjack_path = '..'\n",
    "if blackjack_path not in sys.path:\n",
    "    sys.path.append(blackjack_path)\n",
    "\n",
    "from blackjack._round import Round\n",
    "\n",
    "# start a new round\n",
    "blackjack_round = Round()\n",
    "\n",
    "# check class attribtues\n",
    "print(blackjack_round.player_hand)\n",
    "print(blackjack_round.dealer_hand)\n",
    "print(blackjack_round.outcome)\n",
    "blackjack_round.deck.cards"
   ]
  },
  {
   "cell_type": "code",
   "execution_count": 2,
   "metadata": {},
   "outputs": [
    {
     "name": "stdout",
     "output_type": "stream",
     "text": [
      "Your cards:\n",
      "6\tA\t\n",
      "Dealer card:\n",
      "4\n",
      "\n",
      "Choose your move: Enter h to hit and s to stand\n",
      "h\n",
      "Your cards:\n",
      "4\t6\tA\t\n",
      "Dealer card:\n",
      "4\n",
      "\n",
      "You have a blackjack! :D\n"
     ]
    }
   ],
   "source": [
    "# run player sequence\n",
    "blackjack_round.player_sequence()"
   ]
  }
 ],
 "metadata": {
  "kernelspec": {
   "display_name": "Python 3",
   "language": "python",
   "name": "python3"
  },
  "language_info": {
   "codemirror_mode": {
    "name": "ipython",
    "version": 3
   },
   "file_extension": ".py",
   "mimetype": "text/x-python",
   "name": "python",
   "nbconvert_exporter": "python",
   "pygments_lexer": "ipython3",
   "version": "3.6.1"
  }
 },
 "nbformat": 4,
 "nbformat_minor": 2
}
